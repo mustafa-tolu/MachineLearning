{
 "cells": [
  {
   "cell_type": "markdown",
   "metadata": {},
   "source": [
    "# Hierarchical Clustering"
   ]
  },
  {
   "cell_type": "markdown",
   "metadata": {},
   "source": [
    "This data set contains statistics, in arrests per 100,000 residents for assault, murder, and rape in each of the 50 US states in 1973. Also given is the percent of the population living in urban areas.\n",
    "\n",
    "A data frame with 50 observations on 4 variables.\n",
    "\n",
    "- Murder numeric Murder arrests (per 100,000) (K)\n",
    "- Assault numeric Assault arrests (per 100,000)\n",
    "- UrbanPop numeric Percent urban population (%)\n",
    "- Rape numeric Rape arrests (per 100,000) (K)"
   ]
  },
  {
   "cell_type": "code",
   "execution_count": 1,
   "metadata": {
    "ExecuteTime": {
     "end_time": "2022-09-07T19:11:20.131396Z",
     "start_time": "2022-09-07T19:11:14.873660Z"
    }
   },
   "outputs": [],
   "source": [
    "import numpy as np\n",
    "import pandas as pd\n",
    "import seaborn as sns\n",
    "import matplotlib.pyplot as plt\n",
    "\n",
    "plt.rcParams[\"figure.figsize\"] = (10, 6)\n",
    "import warnings\n",
    "\n",
    "warnings.filterwarnings(\"ignore\")\n",
    "warnings.warn(\"this will not show\")\n",
    "#pd.set_option('display.float_format', lambda x: '%.3f' % x)"
   ]
  },
  {
   "cell_type": "code",
   "execution_count": 2,
   "metadata": {
    "ExecuteTime": {
     "end_time": "2022-09-07T19:11:20.300509Z",
     "start_time": "2022-09-07T19:11:20.249440Z"
    }
   },
   "outputs": [],
   "source": [
    "df = pd.read_csv(\"USArrests.csv\", index_col=0)"
   ]
  },
  {
   "cell_type": "code",
   "execution_count": 3,
   "metadata": {
    "ExecuteTime": {
     "end_time": "2022-09-07T19:11:22.484776Z",
     "start_time": "2022-09-07T19:11:22.451699Z"
    }
   },
   "outputs": [
    {
     "data": {
      "text/html": [
       "<div>\n",
       "<style scoped>\n",
       "    .dataframe tbody tr th:only-of-type {\n",
       "        vertical-align: middle;\n",
       "    }\n",
       "\n",
       "    .dataframe tbody tr th {\n",
       "        vertical-align: top;\n",
       "    }\n",
       "\n",
       "    .dataframe thead th {\n",
       "        text-align: right;\n",
       "    }\n",
       "</style>\n",
       "<table border=\"1\" class=\"dataframe\">\n",
       "  <thead>\n",
       "    <tr style=\"text-align: right;\">\n",
       "      <th></th>\n",
       "      <th>Murder</th>\n",
       "      <th>Assault</th>\n",
       "      <th>UrbanPop</th>\n",
       "      <th>Rape</th>\n",
       "    </tr>\n",
       "  </thead>\n",
       "  <tbody>\n",
       "    <tr>\n",
       "      <th>Alabama</th>\n",
       "      <td>13.2</td>\n",
       "      <td>236</td>\n",
       "      <td>58</td>\n",
       "      <td>21.2</td>\n",
       "    </tr>\n",
       "    <tr>\n",
       "      <th>Alaska</th>\n",
       "      <td>10.0</td>\n",
       "      <td>263</td>\n",
       "      <td>48</td>\n",
       "      <td>44.5</td>\n",
       "    </tr>\n",
       "    <tr>\n",
       "      <th>Arizona</th>\n",
       "      <td>8.1</td>\n",
       "      <td>294</td>\n",
       "      <td>80</td>\n",
       "      <td>31.0</td>\n",
       "    </tr>\n",
       "    <tr>\n",
       "      <th>Arkansas</th>\n",
       "      <td>8.8</td>\n",
       "      <td>190</td>\n",
       "      <td>50</td>\n",
       "      <td>19.5</td>\n",
       "    </tr>\n",
       "    <tr>\n",
       "      <th>California</th>\n",
       "      <td>9.0</td>\n",
       "      <td>276</td>\n",
       "      <td>91</td>\n",
       "      <td>40.6</td>\n",
       "    </tr>\n",
       "  </tbody>\n",
       "</table>\n",
       "</div>"
      ],
      "text/plain": [
       "            Murder  Assault  UrbanPop  Rape\n",
       "Alabama       13.2      236        58  21.2\n",
       "Alaska        10.0      263        48  44.5\n",
       "Arizona        8.1      294        80  31.0\n",
       "Arkansas       8.8      190        50  19.5\n",
       "California     9.0      276        91  40.6"
      ]
     },
     "execution_count": 3,
     "metadata": {},
     "output_type": "execute_result"
    }
   ],
   "source": [
    "df.head()"
   ]
  },
  {
   "cell_type": "markdown",
   "metadata": {},
   "source": [
    "## Exploratory Data Analysis and Visualization"
   ]
  },
  {
   "cell_type": "code",
   "execution_count": 4,
   "metadata": {
    "ExecuteTime": {
     "end_time": "2022-09-07T19:12:11.722146Z",
     "start_time": "2022-09-07T19:12:11.587246Z"
    }
   },
   "outputs": [
    {
     "name": "stdout",
     "output_type": "stream",
     "text": [
      "<class 'pandas.core.frame.DataFrame'>\n",
      "Index: 50 entries, Alabama to Wyoming\n",
      "Data columns (total 4 columns):\n",
      " #   Column    Non-Null Count  Dtype  \n",
      "---  ------    --------------  -----  \n",
      " 0   Murder    50 non-null     float64\n",
      " 1   Assault   50 non-null     int64  \n",
      " 2   UrbanPop  50 non-null     int64  \n",
      " 3   Rape      50 non-null     float64\n",
      "dtypes: float64(2), int64(2)\n",
      "memory usage: 2.0+ KB\n"
     ]
    }
   ],
   "source": [
    "df.info()"
   ]
  },
  {
   "cell_type": "code",
   "execution_count": 5,
   "metadata": {
    "ExecuteTime": {
     "end_time": "2022-09-07T19:12:13.733796Z",
     "start_time": "2022-09-07T19:12:13.619961Z"
    }
   },
   "outputs": [
    {
     "data": {
      "text/html": [
       "<div>\n",
       "<style scoped>\n",
       "    .dataframe tbody tr th:only-of-type {\n",
       "        vertical-align: middle;\n",
       "    }\n",
       "\n",
       "    .dataframe tbody tr th {\n",
       "        vertical-align: top;\n",
       "    }\n",
       "\n",
       "    .dataframe thead th {\n",
       "        text-align: right;\n",
       "    }\n",
       "</style>\n",
       "<table border=\"1\" class=\"dataframe\">\n",
       "  <thead>\n",
       "    <tr style=\"text-align: right;\">\n",
       "      <th></th>\n",
       "      <th>count</th>\n",
       "      <th>mean</th>\n",
       "      <th>std</th>\n",
       "      <th>min</th>\n",
       "      <th>25%</th>\n",
       "      <th>50%</th>\n",
       "      <th>75%</th>\n",
       "      <th>max</th>\n",
       "    </tr>\n",
       "  </thead>\n",
       "  <tbody>\n",
       "    <tr>\n",
       "      <th>Murder</th>\n",
       "      <td>50.0</td>\n",
       "      <td>7.788</td>\n",
       "      <td>4.355510</td>\n",
       "      <td>0.8</td>\n",
       "      <td>4.075</td>\n",
       "      <td>7.25</td>\n",
       "      <td>11.250</td>\n",
       "      <td>17.4</td>\n",
       "    </tr>\n",
       "    <tr>\n",
       "      <th>Assault</th>\n",
       "      <td>50.0</td>\n",
       "      <td>170.760</td>\n",
       "      <td>83.337661</td>\n",
       "      <td>45.0</td>\n",
       "      <td>109.000</td>\n",
       "      <td>159.00</td>\n",
       "      <td>249.000</td>\n",
       "      <td>337.0</td>\n",
       "    </tr>\n",
       "    <tr>\n",
       "      <th>UrbanPop</th>\n",
       "      <td>50.0</td>\n",
       "      <td>65.540</td>\n",
       "      <td>14.474763</td>\n",
       "      <td>32.0</td>\n",
       "      <td>54.500</td>\n",
       "      <td>66.00</td>\n",
       "      <td>77.750</td>\n",
       "      <td>91.0</td>\n",
       "    </tr>\n",
       "    <tr>\n",
       "      <th>Rape</th>\n",
       "      <td>50.0</td>\n",
       "      <td>21.232</td>\n",
       "      <td>9.366385</td>\n",
       "      <td>7.3</td>\n",
       "      <td>15.075</td>\n",
       "      <td>20.10</td>\n",
       "      <td>26.175</td>\n",
       "      <td>46.0</td>\n",
       "    </tr>\n",
       "  </tbody>\n",
       "</table>\n",
       "</div>"
      ],
      "text/plain": [
       "          count     mean        std   min      25%     50%      75%    max\n",
       "Murder     50.0    7.788   4.355510   0.8    4.075    7.25   11.250   17.4\n",
       "Assault    50.0  170.760  83.337661  45.0  109.000  159.00  249.000  337.0\n",
       "UrbanPop   50.0   65.540  14.474763  32.0   54.500   66.00   77.750   91.0\n",
       "Rape       50.0   21.232   9.366385   7.3   15.075   20.10   26.175   46.0"
      ]
     },
     "execution_count": 5,
     "metadata": {},
     "output_type": "execute_result"
    }
   ],
   "source": [
    "df.describe().T"
   ]
  },
  {
   "cell_type": "code",
   "execution_count": 6,
   "metadata": {
    "ExecuteTime": {
     "end_time": "2022-09-07T19:12:29.040245Z",
     "start_time": "2022-09-07T19:12:25.381771Z"
    }
   },
   "outputs": [
    {
     "data": {
      "image/png": "[encoded data removed]",
      "text/plain": [
       "<Figure size 1000x1000 with 14 Axes>"
      ]
     },
     "metadata": {},
     "output_type": "display_data"
    }
   ],
   "source": [
    "sns.pairplot(df, corner=True);"
   ]
  },
  {
   "cell_type": "code",
   "execution_count": 11,
   "metadata": {
    "ExecuteTime": {
     "end_time": "2022-09-07T19:13:46.179788Z",
     "start_time": "2022-09-07T19:13:45.794007Z"
    }
   },
   "outputs": [
    {
     "data": {
      "text/plain": [
       "(array([ 0,  1,  2,  3,  4,  5,  6,  7,  8,  9, 10, 11, 12, 13, 14, 15, 16,\n",
       "        17, 18, 19, 20, 21, 22, 23, 24, 25, 26, 27, 28, 29, 30, 31, 32, 33,\n",
       "        34, 35, 36, 37, 38, 39, 40, 41, 42, 43, 44, 45, 46, 47, 48, 49]),\n",
       " [Text(0, 0, 'North Dakota'),\n",
       "  Text(1, 0, 'New Hampshire'),\n",
       "  Text(2, 0, 'Maine'),\n",
       "  Text(3, 0, 'Iowa'),\n",
       "  Text(4, 0, 'Vermont'),\n",
       "  Text(5, 0, 'Wisconsin'),\n",
       "  Text(6, 0, 'Idaho'),\n",
       "  Text(7, 0, 'Minnesota'),\n",
       "  Text(8, 0, 'Utah'),\n",
       "  Text(9, 0, 'Connecticut'),\n",
       "  Text(10, 0, 'Rhode Island'),\n",
       "  Text(11, 0, 'South Dakota'),\n",
       "  Text(12, 0, 'Washington'),\n",
       "  Text(13, 0, 'Nebraska'),\n",
       "  Text(14, 0, 'Massachusetts'),\n",
       "  Text(15, 0, 'Oregon'),\n",
       "  Text(16, 0, 'Hawaii'),\n",
       "  Text(17, 0, 'West Virginia'),\n",
       "  Text(18, 0, 'Delaware'),\n",
       "  Text(19, 0, 'Montana'),\n",
       "  Text(20, 0, 'Kansas'),\n",
       "  Text(21, 0, 'Pennsylvania'),\n",
       "  Text(22, 0, 'Oklahoma'),\n",
       "  Text(23, 0, 'Wyoming'),\n",
       "  Text(24, 0, 'Indiana'),\n",
       "  Text(25, 0, 'Ohio'),\n",
       "  Text(26, 0, 'New Jersey'),\n",
       "  Text(27, 0, 'Colorado'),\n",
       "  Text(28, 0, 'Arizona'),\n",
       "  Text(29, 0, 'Virginia'),\n",
       "  Text(30, 0, 'Arkansas'),\n",
       "  Text(31, 0, 'Missouri'),\n",
       "  Text(32, 0, 'California'),\n",
       "  Text(33, 0, 'Kentucky'),\n",
       "  Text(34, 0, 'Alaska'),\n",
       "  Text(35, 0, 'Illinois'),\n",
       "  Text(36, 0, 'New York'),\n",
       "  Text(37, 0, 'Maryland'),\n",
       "  Text(38, 0, 'New Mexico'),\n",
       "  Text(39, 0, 'Michigan'),\n",
       "  Text(40, 0, 'Nevada'),\n",
       "  Text(41, 0, 'Texas'),\n",
       "  Text(42, 0, 'North Carolina'),\n",
       "  Text(43, 0, 'Tennessee'),\n",
       "  Text(44, 0, 'Alabama'),\n",
       "  Text(45, 0, 'South Carolina'),\n",
       "  Text(46, 0, 'Florida'),\n",
       "  Text(47, 0, 'Louisiana'),\n",
       "  Text(48, 0, 'Mississippi'),\n",
       "  Text(49, 0, 'Georgia')])"
      ]
     },
     "execution_count": 11,
     "metadata": {},
     "output_type": "execute_result"
    }
   ],
   "source": [
    "murder = df.Murder.sort_values()\n",
    "\n",
    "plt.figure(figsize=(14, 6))\n",
    "sns.barplot(y=murder, x=murder.index)\n",
    "plt.xticks(rotation=90);"
   ]
  },
  {
   "cell_type": "code",
   "execution_count": 8,
   "metadata": {
    "ExecuteTime": {
     "end_time": "2022-09-07T19:13:00.735342Z",
     "start_time": "2022-09-07T19:13:00.481436Z"
    }
   },
   "outputs": [],
   "source": [
    "assault = df.Assault.sort_values()\n",
    "\n",
    "plt.figure(figsize=(14, 6))\n",
    "sns.barplot(y=assault, x=assault.index)\n",
    "plt.xticks(rotation=90);"
   ]
  },
  {
   "cell_type": "code",
   "execution_count": 9,
   "metadata": {
    "ExecuteTime": {
     "end_time": "2022-09-07T19:13:06.158343Z",
     "start_time": "2022-09-07T19:13:05.748865Z"
    }
   },
   "outputs": [],
   "source": [
    "rape = df.Rape.sort_values()\n",
    "\n",
    "plt.figure(figsize=(14, 6))\n",
    "sns.barplot(y=rape, x=rape.index)\n",
    "plt.xticks(rotation=90);"
   ]
  },
  {
   "cell_type": "markdown",
   "metadata": {},
   "source": [
    "## Hopkins Test"
   ]
  },
  {
   "cell_type": "markdown",
   "metadata": {},
   "source": [
    "- Hopkins test, a statistical test for randomness of a variable.\n",
    "- Null Hypothesis (Ho) : Data points are generated by non-random, uniform distribution (implying no meaningful clusters)\n",
    "- Alternate Hypothesis (Ha): Data points are generated by random data points (presence of clusters)\n",
    "- The more close 0, the more available to separate clusters"
   ]
  },
  {
   "cell_type": "code",
   "execution_count": 10,
   "metadata": {
    "ExecuteTime": {
     "end_time": "2022-09-07T10:40:30.012955Z",
     "start_time": "2022-09-07T10:40:29.998002Z"
    }
   },
   "outputs": [],
   "source": [
    "# !pip install pyclustertend"
   ]
  },
  {
   "cell_type": "code",
   "execution_count": 13,
   "metadata": {
    "ExecuteTime": {
     "end_time": "2022-09-07T19:14:13.759059Z",
     "start_time": "2022-09-07T19:14:13.748112Z"
    }
   },
   "outputs": [],
   "source": [
    "from pyclustertend import hopkins"
   ]
  },
  {
   "cell_type": "code",
   "execution_count": 14,
   "metadata": {
    "ExecuteTime": {
     "end_time": "2022-09-07T19:14:14.174263Z",
     "start_time": "2022-09-07T19:14:14.132687Z"
    }
   },
   "outputs": [
    {
     "data": {
      "text/plain": [
       "0.4339918575020662"
      ]
     },
     "execution_count": 14,
     "metadata": {},
     "output_type": "execute_result"
    }
   ],
   "source": [
    "hopkins(df, df.shape[0])"
   ]
  },
  {
   "cell_type": "code",
   "execution_count": 15,
   "metadata": {
    "ExecuteTime": {
     "end_time": "2022-09-07T19:14:14.857114Z",
     "start_time": "2022-09-07T19:14:14.850627Z"
    }
   },
   "outputs": [],
   "source": [
    "from sklearn.preprocessing import StandardScaler, MinMaxScaler"
   ]
  },
  {
   "cell_type": "code",
   "execution_count": 16,
   "metadata": {
    "ExecuteTime": {
     "end_time": "2022-09-07T19:14:17.938301Z",
     "start_time": "2022-09-07T19:14:17.922075Z"
    }
   },
   "outputs": [],
   "source": [
    "df1 = df.copy()\n",
    "df2 = df.copy()"
   ]
  },
  {
   "cell_type": "code",
   "execution_count": 17,
   "metadata": {
    "ExecuteTime": {
     "end_time": "2022-09-07T19:14:21.146577Z",
     "start_time": "2022-09-07T19:14:21.035218Z"
    }
   },
   "outputs": [
    {
     "data": {
      "text/plain": [
       "0.39822877237630117"
      ]
     },
     "execution_count": 17,
     "metadata": {},
     "output_type": "execute_result"
    }
   ],
   "source": [
    "hopkins(MinMaxScaler().fit_transform(df1), df1.shape[0])"
   ]
  },
  {
   "cell_type": "code",
   "execution_count": 18,
   "metadata": {
    "ExecuteTime": {
     "end_time": "2022-09-07T19:14:23.497161Z",
     "start_time": "2022-09-07T19:14:23.436221Z"
    }
   },
   "outputs": [
    {
     "data": {
      "text/plain": [
       "0.3614663185984203"
      ]
     },
     "execution_count": 18,
     "metadata": {},
     "output_type": "execute_result"
    }
   ],
   "source": [
    "hopkins(StandardScaler().fit_transform(df2), df2.shape[0])"
   ]
  },
  {
   "cell_type": "code",
   "execution_count": 19,
   "metadata": {
    "ExecuteTime": {
     "end_time": "2022-09-07T19:14:25.593054Z",
     "start_time": "2022-09-07T19:14:25.586708Z"
    }
   },
   "outputs": [],
   "source": [
    "scaler = MinMaxScaler()"
   ]
  },
  {
   "cell_type": "code",
   "execution_count": 20,
   "metadata": {
    "ExecuteTime": {
     "end_time": "2022-09-07T19:14:26.275591Z",
     "start_time": "2022-09-07T19:14:26.263084Z"
    }
   },
   "outputs": [],
   "source": [
    "df_scaled = scaler.fit_transform(df)"
   ]
  },
  {
   "cell_type": "code",
   "execution_count": 21,
   "metadata": {
    "ExecuteTime": {
     "end_time": "2022-09-07T19:14:28.669060Z",
     "start_time": "2022-09-07T19:14:28.657091Z"
    }
   },
   "outputs": [
    {
     "data": {
      "text/html": [
       "<div>\n",
       "<style scoped>\n",
       "    .dataframe tbody tr th:only-of-type {\n",
       "        vertical-align: middle;\n",
       "    }\n",
       "\n",
       "    .dataframe tbody tr th {\n",
       "        vertical-align: top;\n",
       "    }\n",
       "\n",
       "    .dataframe thead th {\n",
       "        text-align: right;\n",
       "    }\n",
       "</style>\n",
       "<table border=\"1\" class=\"dataframe\">\n",
       "  <thead>\n",
       "    <tr style=\"text-align: right;\">\n",
       "      <th></th>\n",
       "      <th>Murder</th>\n",
       "      <th>Assault</th>\n",
       "      <th>UrbanPop</th>\n",
       "      <th>Rape</th>\n",
       "    </tr>\n",
       "  </thead>\n",
       "  <tbody>\n",
       "    <tr>\n",
       "      <th>0</th>\n",
       "      <td>0.746988</td>\n",
       "      <td>0.654110</td>\n",
       "      <td>0.440678</td>\n",
       "      <td>0.359173</td>\n",
       "    </tr>\n",
       "    <tr>\n",
       "      <th>1</th>\n",
       "      <td>0.554217</td>\n",
       "      <td>0.746575</td>\n",
       "      <td>0.271186</td>\n",
       "      <td>0.961240</td>\n",
       "    </tr>\n",
       "    <tr>\n",
       "      <th>2</th>\n",
       "      <td>0.439759</td>\n",
       "      <td>0.852740</td>\n",
       "      <td>0.813559</td>\n",
       "      <td>0.612403</td>\n",
       "    </tr>\n",
       "    <tr>\n",
       "      <th>3</th>\n",
       "      <td>0.481928</td>\n",
       "      <td>0.496575</td>\n",
       "      <td>0.305085</td>\n",
       "      <td>0.315245</td>\n",
       "    </tr>\n",
       "    <tr>\n",
       "      <th>4</th>\n",
       "      <td>0.493976</td>\n",
       "      <td>0.791096</td>\n",
       "      <td>1.000000</td>\n",
       "      <td>0.860465</td>\n",
       "    </tr>\n",
       "  </tbody>\n",
       "</table>\n",
       "</div>"
      ],
      "text/plain": [
       "     Murder   Assault  UrbanPop      Rape\n",
       "0  0.746988  0.654110  0.440678  0.359173\n",
       "1  0.554217  0.746575  0.271186  0.961240\n",
       "2  0.439759  0.852740  0.813559  0.612403\n",
       "3  0.481928  0.496575  0.305085  0.315245\n",
       "4  0.493976  0.791096  1.000000  0.860465"
      ]
     },
     "execution_count": 21,
     "metadata": {},
     "output_type": "execute_result"
    }
   ],
   "source": [
    "X = pd.DataFrame(df_scaled, columns=df.columns)\n",
    "X.head()"
   ]
  },
  {
   "cell_type": "markdown",
   "metadata": {},
   "source": [
    "## Dendrogram"
   ]
  },
  {
   "cell_type": "markdown",
   "metadata": {},
   "source": [
    "- Tree-like hierarchical representation of clusters is called a dendrogram.   \n",
    "- It illustrates the arrangement of the clusters produced by the corresponding analyses."
   ]
  },
  {
   "cell_type": "code",
   "execution_count": 22,
   "metadata": {
    "ExecuteTime": {
     "end_time": "2022-09-07T19:15:35.647268Z",
     "start_time": "2022-09-07T19:15:35.631205Z"
    }
   },
   "outputs": [],
   "source": [
    "from scipy.cluster.hierarchy import dendrogram, linkage"
   ]
  },
  {
   "cell_type": "code",
   "execution_count": 23,
   "metadata": {
    "ExecuteTime": {
     "end_time": "2022-09-07T19:15:38.586999Z",
     "start_time": "2022-09-07T19:15:38.572677Z"
    }
   },
   "outputs": [],
   "source": [
    "#dendrogram()"
   ]
  },
  {
   "cell_type": "markdown",
   "metadata": {},
   "source": [
    "**“linkage” parameter: (default= “ward”)**\n",
    "\n",
    "  {‘ward’, ‘complete’, ‘average’, ‘single’}\n",
    "\n",
    "Which linkage criterion to use. The linkage criterion determines which distance to use between sets of observation. \n",
    "-\tWard minimizes the variance of the clusters being merged.\n",
    "-\tAverage uses the average of the distances of each observation of the two sets.\n",
    "-\tComplete or maximum linkage uses the maximum distances between all observations of the two sets.\n",
    "-\tSingle uses the minimum of the distances between all observations of the two sets.\n"
   ]
  },
  {
   "cell_type": "code",
   "execution_count": 24,
   "metadata": {
    "ExecuteTime": {
     "end_time": "2022-09-07T19:15:43.129840Z",
     "start_time": "2022-09-07T19:15:43.108772Z"
    }
   },
   "outputs": [],
   "source": [
    "hc_ward = linkage(y=X, method=\"ward\")\n",
    "hc_complete = linkage(X, \"complete\")\n",
    "hc_average = linkage(X, \"average\")\n",
    "hc_single = linkage(X, \"single\")"
   ]
  },
  {
   "cell_type": "code",
   "execution_count": 25,
   "metadata": {
    "ExecuteTime": {
     "end_time": "2022-09-07T19:15:47.786332Z",
     "start_time": "2022-09-07T19:15:47.633388Z"
    }
   },
   "outputs": [],
   "source": [
    "plt.figure(figsize=(14, 7))\n",
    "dendrogram(hc_ward, leaf_font_size=10);"
   ]
  },
  {
   "cell_type": "code",
   "execution_count": 26,
   "metadata": {
    "ExecuteTime": {
     "end_time": "2022-09-07T19:16:06.624014Z",
     "start_time": "2022-09-07T19:16:06.565086Z"
    }
   },
   "outputs": [],
   "source": [
    "plt.figure(figsize=(14, 7))\n",
    "dendrogram(hc_ward, truncate_mode=\"lastp\", p=10, leaf_font_size=10);"
   ]
  },
  {
   "cell_type": "code",
   "execution_count": 27,
   "metadata": {
    "ExecuteTime": {
     "end_time": "2022-09-07T19:16:16.065278Z",
     "start_time": "2022-09-07T19:16:15.921987Z"
    }
   },
   "outputs": [],
   "source": [
    "plt.figure(figsize=(20, 12))\n",
    "\n",
    "plt.subplot(221)\n",
    "plt.title(\"Ward\")\n",
    "plt.xlabel(\"Observations\")\n",
    "plt.ylabel(\"Distance\")\n",
    "dendrogram(hc_ward, truncate_mode=\"lastp\", p=10, leaf_font_size=10)\n",
    "\n",
    "plt.subplot(222)\n",
    "plt.title(\"Complete\")\n",
    "plt.xlabel(\"Observations\")\n",
    "plt.ylabel(\"Distance\")\n",
    "dendrogram(hc_complete, truncate_mode=\"lastp\", p=10, leaf_font_size=10)\n",
    "\n",
    "plt.subplot(223)\n",
    "plt.title(\"Average\")\n",
    "plt.xlabel(\"Observations\")\n",
    "plt.ylabel(\"Distance\")\n",
    "dendrogram(hc_average, truncate_mode=\"lastp\", p=10, leaf_font_size=10)\n",
    "\n",
    "plt.subplot(224)\n",
    "plt.title(\"Single\")\n",
    "plt.xlabel(\"Observations\")\n",
    "plt.ylabel(\"Distance\")\n",
    "dendrogram(hc_single, truncate_mode=\"lastp\", p=10, leaf_font_size=10);"
   ]
  },
  {
   "cell_type": "markdown",
   "metadata": {},
   "source": [
    "## Hierarchical Clustering (Agglomerative)"
   ]
  },
  {
   "cell_type": "markdown",
   "metadata": {},
   "source": [
    "- Ideal clustering is characterised by minimal intra cluster distance and maximal inter cluster distanc"
   ]
  },
  {
   "cell_type": "code",
   "execution_count": 28,
   "metadata": {
    "ExecuteTime": {
     "end_time": "2022-09-07T19:16:41.600117Z",
     "start_time": "2022-09-07T19:16:41.579896Z"
    }
   },
   "outputs": [],
   "source": [
    "from sklearn.cluster import AgglomerativeClustering"
   ]
  },
  {
   "cell_type": "markdown",
   "metadata": {},
   "source": [
    "### S(Silhouette) Score"
   ]
  },
  {
   "cell_type": "markdown",
   "metadata": {},
   "source": [
    "- If the ground truth labels are not known, evaluation must be performed using the model itself. (One of the evaluation method is Silhouette Coefficient)\n",
    "- A higher Silhouette Coefficient score relates to a model with better defined clusters. \n",
    "- a :The mean distance between a sample and all other points in the same class.\n",
    "  b: The mean distance between a sample and all other points in the next nearest cluster.\n",
    "\n",
    "s = (b-a) / max(a,b)"
   ]
  },
  {
   "cell_type": "code",
   "execution_count": 29,
   "metadata": {
    "ExecuteTime": {
     "end_time": "2022-09-07T19:16:43.317133Z",
     "start_time": "2022-09-07T19:16:43.295048Z"
    }
   },
   "outputs": [],
   "source": [
    "from sklearn.metrics import silhouette_score"
   ]
  },
  {
   "cell_type": "code",
   "execution_count": 30,
   "metadata": {
    "ExecuteTime": {
     "end_time": "2022-09-07T19:16:46.852914Z",
     "start_time": "2022-09-07T19:16:46.753745Z"
    }
   },
   "outputs": [
    {
     "name": "stdout",
     "output_type": "stream",
     "text": [
      "Silhouette Score for 2 clusters: 0.5406742439027667\n",
      "Silhouette Score for 3 clusters: 0.35867841933636974\n",
      "Silhouette Score for 4 clusters: 0.19574129619567182\n",
      "Silhouette Score for 5 clusters: 0.08372985630683066\n",
      "Silhouette Score for 6 clusters: -0.0009786026955674388\n",
      "Silhouette Score for 7 clusters: -0.10043609614774641\n",
      "Silhouette Score for 8 clusters: -0.05885457794822923\n",
      "Silhouette Score for 9 clusters: -0.0638527362487993\n"
     ]
    }
   ],
   "source": [
    "K = range(2, 10)\n",
    "\n",
    "for k in K:\n",
    "    model = AgglomerativeClustering(n_clusters=k)\n",
    "    model.fit_predict(X)\n",
    "    print(\n",
    "        f'Silhouette Score for {k} clusters: {silhouette_score(df, model.labels_)}'\n",
    "    )"
   ]
  },
  {
   "cell_type": "code",
   "execution_count": 31,
   "metadata": {
    "ExecuteTime": {
     "end_time": "2022-09-07T19:16:51.230801Z",
     "start_time": "2022-09-07T19:16:51.223090Z"
    }
   },
   "outputs": [],
   "source": [
    "model = AgglomerativeClustering(n_clusters=3,\n",
    "                                affinity=\"euclidean\",\n",
    "                                linkage=\"ward\")\n",
    "clusters = model.fit_predict(X)"
   ]
  },
  {
   "cell_type": "code",
   "execution_count": 32,
   "metadata": {
    "ExecuteTime": {
     "end_time": "2022-09-07T19:16:58.111697Z",
     "start_time": "2022-09-07T19:16:58.058075Z"
    }
   },
   "outputs": [
    {
     "data": {
      "text/html": [
       "<div>\n",
       "<style scoped>\n",
       "    .dataframe tbody tr th:only-of-type {\n",
       "        vertical-align: middle;\n",
       "    }\n",
       "\n",
       "    .dataframe tbody tr th {\n",
       "        vertical-align: top;\n",
       "    }\n",
       "\n",
       "    .dataframe thead th {\n",
       "        text-align: right;\n",
       "    }\n",
       "</style>\n",
       "<table border=\"1\" class=\"dataframe\">\n",
       "  <thead>\n",
       "    <tr style=\"text-align: right;\">\n",
       "      <th></th>\n",
       "      <th>Murder</th>\n",
       "      <th>Assault</th>\n",
       "      <th>UrbanPop</th>\n",
       "      <th>Rape</th>\n",
       "    </tr>\n",
       "  </thead>\n",
       "  <tbody>\n",
       "    <tr>\n",
       "      <th>0</th>\n",
       "      <td>0.746988</td>\n",
       "      <td>0.654110</td>\n",
       "      <td>0.440678</td>\n",
       "      <td>0.359173</td>\n",
       "    </tr>\n",
       "    <tr>\n",
       "      <th>1</th>\n",
       "      <td>0.554217</td>\n",
       "      <td>0.746575</td>\n",
       "      <td>0.271186</td>\n",
       "      <td>0.961240</td>\n",
       "    </tr>\n",
       "    <tr>\n",
       "      <th>2</th>\n",
       "      <td>0.439759</td>\n",
       "      <td>0.852740</td>\n",
       "      <td>0.813559</td>\n",
       "      <td>0.612403</td>\n",
       "    </tr>\n",
       "    <tr>\n",
       "      <th>3</th>\n",
       "      <td>0.481928</td>\n",
       "      <td>0.496575</td>\n",
       "      <td>0.305085</td>\n",
       "      <td>0.315245</td>\n",
       "    </tr>\n",
       "    <tr>\n",
       "      <th>4</th>\n",
       "      <td>0.493976</td>\n",
       "      <td>0.791096</td>\n",
       "      <td>1.000000</td>\n",
       "      <td>0.860465</td>\n",
       "    </tr>\n",
       "  </tbody>\n",
       "</table>\n",
       "</div>"
      ],
      "text/plain": [
       "     Murder   Assault  UrbanPop      Rape\n",
       "0  0.746988  0.654110  0.440678  0.359173\n",
       "1  0.554217  0.746575  0.271186  0.961240\n",
       "2  0.439759  0.852740  0.813559  0.612403\n",
       "3  0.481928  0.496575  0.305085  0.315245\n",
       "4  0.493976  0.791096  1.000000  0.860465"
      ]
     },
     "execution_count": 32,
     "metadata": {},
     "output_type": "execute_result"
    }
   ],
   "source": [
    "X.head()"
   ]
  },
  {
   "cell_type": "code",
   "execution_count": 33,
   "metadata": {
    "ExecuteTime": {
     "end_time": "2022-09-07T19:17:11.716690Z",
     "start_time": "2022-09-07T19:17:11.467218Z"
    }
   },
   "outputs": [],
   "source": [
    "plt.figure(figsize=(20, 18))\n",
    "\n",
    "plot_number = 1\n",
    "for i in X:\n",
    "    for j in X:\n",
    "        if j != i:\n",
    "            plt.subplot(4, 3, plot_number)\n",
    "            plt.scatter(X[j], X[i], c=clusters, cmap=\"viridis\")\n",
    "            plt.xlabel(j)\n",
    "            plt.ylabel(i)\n",
    "            plot_number += 1"
   ]
  },
  {
   "cell_type": "code",
   "execution_count": 34,
   "metadata": {
    "ExecuteTime": {
     "end_time": "2022-09-07T19:20:34.418808Z",
     "start_time": "2022-09-07T19:20:34.390656Z"
    }
   },
   "outputs": [
    {
     "data": {
      "text/html": [
       "<div>\n",
       "<style scoped>\n",
       "    .dataframe tbody tr th:only-of-type {\n",
       "        vertical-align: middle;\n",
       "    }\n",
       "\n",
       "    .dataframe tbody tr th {\n",
       "        vertical-align: top;\n",
       "    }\n",
       "\n",
       "    .dataframe thead th {\n",
       "        text-align: right;\n",
       "    }\n",
       "</style>\n",
       "<table border=\"1\" class=\"dataframe\">\n",
       "  <thead>\n",
       "    <tr style=\"text-align: right;\">\n",
       "      <th></th>\n",
       "      <th>Murder</th>\n",
       "      <th>Assault</th>\n",
       "      <th>UrbanPop</th>\n",
       "      <th>Rape</th>\n",
       "      <th>cluster</th>\n",
       "    </tr>\n",
       "  </thead>\n",
       "  <tbody>\n",
       "    <tr>\n",
       "      <th>0</th>\n",
       "      <td>0.746988</td>\n",
       "      <td>0.654110</td>\n",
       "      <td>0.440678</td>\n",
       "      <td>0.359173</td>\n",
       "      <td>0</td>\n",
       "    </tr>\n",
       "    <tr>\n",
       "      <th>1</th>\n",
       "      <td>0.554217</td>\n",
       "      <td>0.746575</td>\n",
       "      <td>0.271186</td>\n",
       "      <td>0.961240</td>\n",
       "      <td>0</td>\n",
       "    </tr>\n",
       "    <tr>\n",
       "      <th>2</th>\n",
       "      <td>0.439759</td>\n",
       "      <td>0.852740</td>\n",
       "      <td>0.813559</td>\n",
       "      <td>0.612403</td>\n",
       "      <td>0</td>\n",
       "    </tr>\n",
       "    <tr>\n",
       "      <th>3</th>\n",
       "      <td>0.481928</td>\n",
       "      <td>0.496575</td>\n",
       "      <td>0.305085</td>\n",
       "      <td>0.315245</td>\n",
       "      <td>1</td>\n",
       "    </tr>\n",
       "    <tr>\n",
       "      <th>4</th>\n",
       "      <td>0.493976</td>\n",
       "      <td>0.791096</td>\n",
       "      <td>1.000000</td>\n",
       "      <td>0.860465</td>\n",
       "      <td>0</td>\n",
       "    </tr>\n",
       "  </tbody>\n",
       "</table>\n",
       "</div>"
      ],
      "text/plain": [
       "     Murder   Assault  UrbanPop      Rape  cluster\n",
       "0  0.746988  0.654110  0.440678  0.359173        0\n",
       "1  0.554217  0.746575  0.271186  0.961240        0\n",
       "2  0.439759  0.852740  0.813559  0.612403        0\n",
       "3  0.481928  0.496575  0.305085  0.315245        1\n",
       "4  0.493976  0.791096  1.000000  0.860465        0"
      ]
     },
     "execution_count": 34,
     "metadata": {},
     "output_type": "execute_result"
    }
   ],
   "source": [
    "X[\"cluster\"] = clusters\n",
    "X.head()"
   ]
  },
  {
   "cell_type": "code",
   "execution_count": 35,
   "metadata": {
    "ExecuteTime": {
     "end_time": "2022-09-07T19:20:35.763030Z",
     "start_time": "2022-09-07T19:20:35.709845Z"
    },
    "scrolled": true
   },
   "outputs": [
    {
     "data": {
      "text/html": [
       "<div>\n",
       "<style scoped>\n",
       "    .dataframe tbody tr th:only-of-type {\n",
       "        vertical-align: middle;\n",
       "    }\n",
       "\n",
       "    .dataframe tbody tr th {\n",
       "        vertical-align: top;\n",
       "    }\n",
       "\n",
       "    .dataframe thead th {\n",
       "        text-align: right;\n",
       "    }\n",
       "</style>\n",
       "<table border=\"1\" class=\"dataframe\">\n",
       "  <thead>\n",
       "    <tr style=\"text-align: right;\">\n",
       "      <th>cluster</th>\n",
       "      <th>0</th>\n",
       "      <th>1</th>\n",
       "      <th>2</th>\n",
       "    </tr>\n",
       "  </thead>\n",
       "  <tbody>\n",
       "    <tr>\n",
       "      <th>Murder</th>\n",
       "      <td>0.684639</td>\n",
       "      <td>0.316600</td>\n",
       "      <td>0.138052</td>\n",
       "    </tr>\n",
       "    <tr>\n",
       "      <th>Assault</th>\n",
       "      <td>0.720034</td>\n",
       "      <td>0.325533</td>\n",
       "      <td>0.106164</td>\n",
       "    </tr>\n",
       "    <tr>\n",
       "      <th>UrbanPop</th>\n",
       "      <td>0.616949</td>\n",
       "      <td>0.666667</td>\n",
       "      <td>0.340395</td>\n",
       "    </tr>\n",
       "    <tr>\n",
       "      <th>Rape</th>\n",
       "      <td>0.564987</td>\n",
       "      <td>0.294143</td>\n",
       "      <td>0.117140</td>\n",
       "    </tr>\n",
       "  </tbody>\n",
       "</table>\n",
       "</div>"
      ],
      "text/plain": [
       "cluster          0         1         2\n",
       "Murder    0.684639  0.316600  0.138052\n",
       "Assault   0.720034  0.325533  0.106164\n",
       "UrbanPop  0.616949  0.666667  0.340395\n",
       "Rape      0.564987  0.294143  0.117140"
      ]
     },
     "execution_count": 35,
     "metadata": {},
     "output_type": "execute_result"
    }
   ],
   "source": [
    "clus_pred = X.groupby(\"cluster\").mean().T\n",
    "clus_pred"
   ]
  },
  {
   "cell_type": "code",
   "execution_count": 36,
   "metadata": {
    "ExecuteTime": {
     "end_time": "2022-09-07T19:20:44.867997Z",
     "start_time": "2022-09-07T19:20:44.273098Z"
    }
   },
   "outputs": [],
   "source": [
    "sns.lineplot(data=clus_pred);"
   ]
  },
  {
   "cell_type": "code",
   "execution_count": 37,
   "metadata": {
    "ExecuteTime": {
     "end_time": "2022-09-07T19:20:56.478070Z",
     "start_time": "2022-09-07T19:20:56.259085Z"
    }
   },
   "outputs": [],
   "source": [
    "plt.figure(figsize=(20, 6))\n",
    "\n",
    "plt.subplot(141)\n",
    "sns.boxplot(y=\"Murder\", x=\"cluster\", data=X)\n",
    "\n",
    "plt.subplot(142)\n",
    "sns.boxplot(y=\"Assault\", x=\"cluster\", data=X)\n",
    "\n",
    "plt.subplot(143)\n",
    "sns.boxplot(y=\"Rape\", x=\"cluster\", data=X)\n",
    "\n",
    "plt.subplot(144)\n",
    "sns.boxplot(y=\"UrbanPop\", x=\"cluster\", data=X);"
   ]
  },
  {
   "cell_type": "code",
   "execution_count": 38,
   "metadata": {
    "ExecuteTime": {
     "end_time": "2022-09-07T19:20:59.793077Z",
     "start_time": "2022-09-07T19:20:59.761494Z"
    }
   },
   "outputs": [
    {
     "data": {
      "text/plain": [
       "0    20\n",
       "1    18\n",
       "2    12\n",
       "Name: cluster, dtype: int64"
      ]
     },
     "execution_count": 38,
     "metadata": {},
     "output_type": "execute_result"
    }
   ],
   "source": [
    "X.cluster.value_counts()"
   ]
  },
  {
   "cell_type": "code",
   "execution_count": 39,
   "metadata": {
    "ExecuteTime": {
     "end_time": "2022-09-07T19:21:04.654995Z",
     "start_time": "2022-09-07T19:21:04.634056Z"
    }
   },
   "outputs": [
    {
     "data": {
      "text/html": [
       "<div>\n",
       "<style scoped>\n",
       "    .dataframe tbody tr th:only-of-type {\n",
       "        vertical-align: middle;\n",
       "    }\n",
       "\n",
       "    .dataframe tbody tr th {\n",
       "        vertical-align: top;\n",
       "    }\n",
       "\n",
       "    .dataframe thead th {\n",
       "        text-align: right;\n",
       "    }\n",
       "</style>\n",
       "<table border=\"1\" class=\"dataframe\">\n",
       "  <thead>\n",
       "    <tr style=\"text-align: right;\">\n",
       "      <th></th>\n",
       "      <th>Murder</th>\n",
       "      <th>Assault</th>\n",
       "      <th>Rape</th>\n",
       "    </tr>\n",
       "  </thead>\n",
       "  <tbody>\n",
       "    <tr>\n",
       "      <th>0</th>\n",
       "      <td>0.746988</td>\n",
       "      <td>0.654110</td>\n",
       "      <td>0.359173</td>\n",
       "    </tr>\n",
       "    <tr>\n",
       "      <th>1</th>\n",
       "      <td>0.554217</td>\n",
       "      <td>0.746575</td>\n",
       "      <td>0.961240</td>\n",
       "    </tr>\n",
       "    <tr>\n",
       "      <th>2</th>\n",
       "      <td>0.439759</td>\n",
       "      <td>0.852740</td>\n",
       "      <td>0.612403</td>\n",
       "    </tr>\n",
       "    <tr>\n",
       "      <th>3</th>\n",
       "      <td>0.481928</td>\n",
       "      <td>0.496575</td>\n",
       "      <td>0.315245</td>\n",
       "    </tr>\n",
       "    <tr>\n",
       "      <th>4</th>\n",
       "      <td>0.493976</td>\n",
       "      <td>0.791096</td>\n",
       "      <td>0.860465</td>\n",
       "    </tr>\n",
       "  </tbody>\n",
       "</table>\n",
       "</div>"
      ],
      "text/plain": [
       "     Murder   Assault      Rape\n",
       "0  0.746988  0.654110  0.359173\n",
       "1  0.554217  0.746575  0.961240\n",
       "2  0.439759  0.852740  0.612403\n",
       "3  0.481928  0.496575  0.315245\n",
       "4  0.493976  0.791096  0.860465"
      ]
     },
     "execution_count": 39,
     "metadata": {},
     "output_type": "execute_result"
    }
   ],
   "source": [
    "X2 = X.iloc[:, [0, 1, 3]]\n",
    "X2.head()"
   ]
  },
  {
   "cell_type": "markdown",
   "metadata": {},
   "source": [
    "## Hopkins test"
   ]
  },
  {
   "cell_type": "code",
   "execution_count": 40,
   "metadata": {
    "ExecuteTime": {
     "end_time": "2022-09-07T19:21:10.865769Z",
     "start_time": "2022-09-07T19:21:10.834848Z"
    }
   },
   "outputs": [
    {
     "data": {
      "text/plain": [
       "0.34122243324271556"
      ]
     },
     "execution_count": 40,
     "metadata": {},
     "output_type": "execute_result"
    }
   ],
   "source": [
    "hopkins(X2, X2.shape[0])"
   ]
  },
  {
   "cell_type": "raw",
   "metadata": {},
   "source": [
    "0.3779127955224929"
   ]
  },
  {
   "cell_type": "code",
   "execution_count": 41,
   "metadata": {
    "ExecuteTime": {
     "end_time": "2022-09-07T19:21:14.422769Z",
     "start_time": "2022-09-07T19:21:14.414813Z"
    }
   },
   "outputs": [],
   "source": [
    "hc_ward = linkage(y=X2, method=\"ward\")\n",
    "hc_complete = linkage(X2, \"complete\")\n",
    "hc_average = linkage(X2, \"average\")\n",
    "hc_single = linkage(X2, \"single\")"
   ]
  },
  {
   "cell_type": "code",
   "execution_count": 42,
   "metadata": {
    "ExecuteTime": {
     "end_time": "2022-09-07T19:21:21.510029Z",
     "start_time": "2022-09-07T19:21:21.350618Z"
    }
   },
   "outputs": [],
   "source": [
    "plt.figure(figsize=(20, 12))\n",
    "\n",
    "plt.subplot(221)\n",
    "plt.title(\"Ward\")\n",
    "plt.xlabel(\"Observations\")\n",
    "plt.ylabel(\"Distance\")\n",
    "dendrogram(hc_ward, truncate_mode=\"lastp\", p=10, leaf_font_size=10)\n",
    "\n",
    "plt.subplot(222)\n",
    "plt.title(\"Complete\")\n",
    "plt.xlabel(\"Observations\")\n",
    "plt.ylabel(\"Distance\")\n",
    "dendrogram(hc_complete, truncate_mode=\"lastp\", p=10, leaf_font_size=10)\n",
    "\n",
    "plt.subplot(223)\n",
    "plt.title(\"Average\")\n",
    "plt.xlabel(\"Observations\")\n",
    "plt.ylabel(\"Distance\")\n",
    "dendrogram(hc_average, truncate_mode=\"lastp\", p=10, leaf_font_size=10)\n",
    "\n",
    "plt.subplot(224)\n",
    "plt.title(\"Single\")\n",
    "plt.xlabel(\"Observations\")\n",
    "plt.ylabel(\"Distance\")\n",
    "dendrogram(hc_single, truncate_mode=\"lastp\", p=10, leaf_font_size=10);"
   ]
  },
  {
   "cell_type": "code",
   "execution_count": 43,
   "metadata": {
    "ExecuteTime": {
     "end_time": "2022-09-07T19:21:26.813836Z",
     "start_time": "2022-09-07T19:21:26.736307Z"
    }
   },
   "outputs": [
    {
     "name": "stdout",
     "output_type": "stream",
     "text": [
      "Silhouette Score for 2 clusters: 0.5406742439027667\n",
      "Silhouette Score for 3 clusters: 0.33193668766161594\n",
      "Silhouette Score for 4 clusters: 0.13774732005543386\n",
      "Silhouette Score for 5 clusters: 0.13269348844287665\n",
      "Silhouette Score for 6 clusters: 0.05186388427730713\n",
      "Silhouette Score for 7 clusters: -0.05791022756192904\n",
      "Silhouette Score for 8 clusters: -0.06533546010208166\n",
      "Silhouette Score for 9 clusters: -0.025411681669985368\n",
      "Silhouette Score for 10 clusters: 0.02417352208175962\n"
     ]
    }
   ],
   "source": [
    "K = range(2, 11)\n",
    "\n",
    "for k in K:\n",
    "    model = AgglomerativeClustering(n_clusters=k)\n",
    "    model.fit_predict(X2)\n",
    "    print(\n",
    "        f'Silhouette Score for {k} clusters: {silhouette_score(df, model.labels_)}'\n",
    "    )"
   ]
  },
  {
   "cell_type": "raw",
   "metadata": {},
   "source": [
    "Silhouette Score for 2 clusters: 0.5406742439027667\n",
    "Silhouette Score for 3 clusters: 0.35867841933636974\n",
    "Silhouette Score for 4 clusters: 0.19574129619567182\n",
    "Silhouette Score for 5 clusters: 0.08372985630683068\n",
    "Silhouette Score for 6 clusters: -0.0009786026955674342\n",
    "Silhouette Score for 7 clusters: -0.10043609614774641\n",
    "Silhouette Score for 8 clusters: -0.05885457794822918\n",
    "Silhouette Score for 9 clusters: -0.06385273624879925"
   ]
  },
  {
   "cell_type": "code",
   "execution_count": 44,
   "metadata": {
    "ExecuteTime": {
     "end_time": "2022-09-07T19:21:33.811463Z",
     "start_time": "2022-09-07T19:21:33.794848Z"
    }
   },
   "outputs": [],
   "source": [
    "final_model = AgglomerativeClustering(n_clusters=3,\n",
    "                                      affinity=\"euclidean\",\n",
    "                                      linkage=\"ward\")\n",
    "clusters = final_model.fit_predict(X2)\n",
    "X2[\"cluster\"] = clusters"
   ]
  },
  {
   "cell_type": "code",
   "execution_count": 45,
   "metadata": {
    "ExecuteTime": {
     "end_time": "2022-09-07T19:21:35.054870Z",
     "start_time": "2022-09-07T19:21:35.039834Z"
    }
   },
   "outputs": [
    {
     "data": {
      "text/plain": [
       "0    20\n",
       "1    17\n",
       "2    13\n",
       "Name: cluster, dtype: int64"
      ]
     },
     "execution_count": 45,
     "metadata": {},
     "output_type": "execute_result"
    }
   ],
   "source": [
    "X2.cluster.value_counts()"
   ]
  },
  {
   "cell_type": "raw",
   "metadata": {},
   "source": [
    "0    20\n",
    "1    18\n",
    "2    12"
   ]
  },
  {
   "cell_type": "code",
   "execution_count": 46,
   "metadata": {
    "ExecuteTime": {
     "end_time": "2022-09-07T19:21:41.870778Z",
     "start_time": "2022-09-07T19:21:41.723769Z"
    }
   },
   "outputs": [],
   "source": [
    "plt.figure(figsize=(20, 6))\n",
    "\n",
    "plt.subplot(131)\n",
    "sns.boxplot(y=\"Murder\", x=\"cluster\", data=X2)\n",
    "\n",
    "plt.subplot(132)\n",
    "sns.boxplot(y=\"Assault\", x=\"cluster\", data=X2)\n",
    "\n",
    "plt.subplot(133)\n",
    "sns.boxplot(y=\"Rape\", x=\"cluster\", data=X2);"
   ]
  },
  {
   "cell_type": "markdown",
   "metadata": {},
   "source": [
    "**Evaluation**\n",
    "\n",
    "- 0 : states with high crime rates\n",
    "- 1 : states with low crime rates\n",
    "- 2 : states with medium crime rates"
   ]
  },
  {
   "cell_type": "code",
   "execution_count": 47,
   "metadata": {
    "ExecuteTime": {
     "end_time": "2022-09-07T19:44:03.891741Z",
     "start_time": "2022-09-07T19:44:03.707361Z"
    }
   },
   "outputs": [
    {
     "data": {
      "text/html": [
       "<div>\n",
       "<style scoped>\n",
       "    .dataframe tbody tr th:only-of-type {\n",
       "        vertical-align: middle;\n",
       "    }\n",
       "\n",
       "    .dataframe tbody tr th {\n",
       "        vertical-align: top;\n",
       "    }\n",
       "\n",
       "    .dataframe thead th {\n",
       "        text-align: right;\n",
       "    }\n",
       "</style>\n",
       "<table border=\"1\" class=\"dataframe\">\n",
       "  <thead>\n",
       "    <tr style=\"text-align: right;\">\n",
       "      <th></th>\n",
       "      <th>Murder</th>\n",
       "      <th>Assault</th>\n",
       "      <th>Rape</th>\n",
       "      <th>cluster</th>\n",
       "      <th>crime_level</th>\n",
       "    </tr>\n",
       "  </thead>\n",
       "  <tbody>\n",
       "    <tr>\n",
       "      <th>0</th>\n",
       "      <td>0.746988</td>\n",
       "      <td>0.654110</td>\n",
       "      <td>0.359173</td>\n",
       "      <td>0</td>\n",
       "      <td>high</td>\n",
       "    </tr>\n",
       "    <tr>\n",
       "      <th>1</th>\n",
       "      <td>0.554217</td>\n",
       "      <td>0.746575</td>\n",
       "      <td>0.961240</td>\n",
       "      <td>0</td>\n",
       "      <td>high</td>\n",
       "    </tr>\n",
       "    <tr>\n",
       "      <th>2</th>\n",
       "      <td>0.439759</td>\n",
       "      <td>0.852740</td>\n",
       "      <td>0.612403</td>\n",
       "      <td>0</td>\n",
       "      <td>high</td>\n",
       "    </tr>\n",
       "    <tr>\n",
       "      <th>3</th>\n",
       "      <td>0.481928</td>\n",
       "      <td>0.496575</td>\n",
       "      <td>0.315245</td>\n",
       "      <td>2</td>\n",
       "      <td>medium</td>\n",
       "    </tr>\n",
       "    <tr>\n",
       "      <th>4</th>\n",
       "      <td>0.493976</td>\n",
       "      <td>0.791096</td>\n",
       "      <td>0.860465</td>\n",
       "      <td>0</td>\n",
       "      <td>high</td>\n",
       "    </tr>\n",
       "  </tbody>\n",
       "</table>\n",
       "</div>"
      ],
      "text/plain": [
       "     Murder   Assault      Rape  cluster crime_level\n",
       "0  0.746988  0.654110  0.359173        0        high\n",
       "1  0.554217  0.746575  0.961240        0        high\n",
       "2  0.439759  0.852740  0.612403        0        high\n",
       "3  0.481928  0.496575  0.315245        2      medium\n",
       "4  0.493976  0.791096  0.860465        0        high"
      ]
     },
     "execution_count": 47,
     "metadata": {},
     "output_type": "execute_result"
    }
   ],
   "source": [
    "X2[\"crime_level\"] = X2[\"cluster\"].map({0: \"high\", 1: \"low\", 2: \"medium\"})\n",
    "X2.head()"
   ]
  },
  {
   "cell_type": "code",
   "execution_count": 48,
   "metadata": {
    "ExecuteTime": {
     "end_time": "2022-09-07T19:44:07.645889Z",
     "start_time": "2022-09-07T19:44:07.624823Z"
    }
   },
   "outputs": [
    {
     "data": {
      "text/plain": [
       "Index(['Alabama', 'Alaska', 'Arizona', 'Arkansas', 'California', 'Colorado',\n",
       "       'Connecticut', 'Delaware', 'Florida', 'Georgia', 'Hawaii', 'Idaho',\n",
       "       'Illinois', 'Indiana', 'Iowa', 'Kansas', 'Kentucky', 'Louisiana',\n",
       "       'Maine', 'Maryland', 'Massachusetts', 'Michigan', 'Minnesota',\n",
       "       'Mississippi', 'Missouri', 'Montana', 'Nebraska', 'Nevada',\n",
       "       'New Hampshire', 'New Jersey', 'New Mexico', 'New York',\n",
       "       'North Carolina', 'North Dakota', 'Ohio', 'Oklahoma', 'Oregon',\n",
       "       'Pennsylvania', 'Rhode Island', 'South Carolina', 'South Dakota',\n",
       "       'Tennessee', 'Texas', 'Utah', 'Vermont', 'Virginia', 'Washington',\n",
       "       'West Virginia', 'Wisconsin', 'Wyoming'],\n",
       "      dtype='object')"
      ]
     },
     "execution_count": 48,
     "metadata": {},
     "output_type": "execute_result"
    }
   ],
   "source": [
    "df.index"
   ]
  },
  {
   "cell_type": "code",
   "execution_count": 49,
   "metadata": {
    "ExecuteTime": {
     "end_time": "2022-09-07T19:44:09.935119Z",
     "start_time": "2022-09-07T19:44:09.897088Z"
    }
   },
   "outputs": [
    {
     "data": {
      "text/html": [
       "<div>\n",
       "<style scoped>\n",
       "    .dataframe tbody tr th:only-of-type {\n",
       "        vertical-align: middle;\n",
       "    }\n",
       "\n",
       "    .dataframe tbody tr th {\n",
       "        vertical-align: top;\n",
       "    }\n",
       "\n",
       "    .dataframe thead th {\n",
       "        text-align: right;\n",
       "    }\n",
       "</style>\n",
       "<table border=\"1\" class=\"dataframe\">\n",
       "  <thead>\n",
       "    <tr style=\"text-align: right;\">\n",
       "      <th></th>\n",
       "      <th>Murder</th>\n",
       "      <th>Assault</th>\n",
       "      <th>Rape</th>\n",
       "      <th>cluster</th>\n",
       "      <th>crime_level</th>\n",
       "      <th>States</th>\n",
       "    </tr>\n",
       "  </thead>\n",
       "  <tbody>\n",
       "    <tr>\n",
       "      <th>0</th>\n",
       "      <td>0.746988</td>\n",
       "      <td>0.654110</td>\n",
       "      <td>0.359173</td>\n",
       "      <td>0</td>\n",
       "      <td>high</td>\n",
       "      <td>Alabama</td>\n",
       "    </tr>\n",
       "    <tr>\n",
       "      <th>1</th>\n",
       "      <td>0.554217</td>\n",
       "      <td>0.746575</td>\n",
       "      <td>0.961240</td>\n",
       "      <td>0</td>\n",
       "      <td>high</td>\n",
       "      <td>Alaska</td>\n",
       "    </tr>\n",
       "    <tr>\n",
       "      <th>2</th>\n",
       "      <td>0.439759</td>\n",
       "      <td>0.852740</td>\n",
       "      <td>0.612403</td>\n",
       "      <td>0</td>\n",
       "      <td>high</td>\n",
       "      <td>Arizona</td>\n",
       "    </tr>\n",
       "    <tr>\n",
       "      <th>3</th>\n",
       "      <td>0.481928</td>\n",
       "      <td>0.496575</td>\n",
       "      <td>0.315245</td>\n",
       "      <td>2</td>\n",
       "      <td>medium</td>\n",
       "      <td>Arkansas</td>\n",
       "    </tr>\n",
       "    <tr>\n",
       "      <th>4</th>\n",
       "      <td>0.493976</td>\n",
       "      <td>0.791096</td>\n",
       "      <td>0.860465</td>\n",
       "      <td>0</td>\n",
       "      <td>high</td>\n",
       "      <td>California</td>\n",
       "    </tr>\n",
       "    <tr>\n",
       "      <th>5</th>\n",
       "      <td>0.427711</td>\n",
       "      <td>0.544521</td>\n",
       "      <td>0.811370</td>\n",
       "      <td>0</td>\n",
       "      <td>high</td>\n",
       "      <td>Colorado</td>\n",
       "    </tr>\n",
       "    <tr>\n",
       "      <th>6</th>\n",
       "      <td>0.150602</td>\n",
       "      <td>0.222603</td>\n",
       "      <td>0.098191</td>\n",
       "      <td>1</td>\n",
       "      <td>low</td>\n",
       "      <td>Connecticut</td>\n",
       "    </tr>\n",
       "    <tr>\n",
       "      <th>7</th>\n",
       "      <td>0.307229</td>\n",
       "      <td>0.660959</td>\n",
       "      <td>0.219638</td>\n",
       "      <td>2</td>\n",
       "      <td>medium</td>\n",
       "      <td>Delaware</td>\n",
       "    </tr>\n",
       "    <tr>\n",
       "      <th>8</th>\n",
       "      <td>0.879518</td>\n",
       "      <td>0.993151</td>\n",
       "      <td>0.635659</td>\n",
       "      <td>0</td>\n",
       "      <td>high</td>\n",
       "      <td>Florida</td>\n",
       "    </tr>\n",
       "    <tr>\n",
       "      <th>9</th>\n",
       "      <td>1.000000</td>\n",
       "      <td>0.568493</td>\n",
       "      <td>0.478036</td>\n",
       "      <td>0</td>\n",
       "      <td>high</td>\n",
       "      <td>Georgia</td>\n",
       "    </tr>\n",
       "    <tr>\n",
       "      <th>10</th>\n",
       "      <td>0.271084</td>\n",
       "      <td>0.003425</td>\n",
       "      <td>0.333333</td>\n",
       "      <td>1</td>\n",
       "      <td>low</td>\n",
       "      <td>Hawaii</td>\n",
       "    </tr>\n",
       "    <tr>\n",
       "      <th>11</th>\n",
       "      <td>0.108434</td>\n",
       "      <td>0.256849</td>\n",
       "      <td>0.178295</td>\n",
       "      <td>1</td>\n",
       "      <td>low</td>\n",
       "      <td>Idaho</td>\n",
       "    </tr>\n",
       "    <tr>\n",
       "      <th>12</th>\n",
       "      <td>0.578313</td>\n",
       "      <td>0.698630</td>\n",
       "      <td>0.431525</td>\n",
       "      <td>0</td>\n",
       "      <td>high</td>\n",
       "      <td>Illinois</td>\n",
       "    </tr>\n",
       "    <tr>\n",
       "      <th>13</th>\n",
       "      <td>0.385542</td>\n",
       "      <td>0.232877</td>\n",
       "      <td>0.354005</td>\n",
       "      <td>2</td>\n",
       "      <td>medium</td>\n",
       "      <td>Indiana</td>\n",
       "    </tr>\n",
       "    <tr>\n",
       "      <th>14</th>\n",
       "      <td>0.084337</td>\n",
       "      <td>0.037671</td>\n",
       "      <td>0.103359</td>\n",
       "      <td>1</td>\n",
       "      <td>low</td>\n",
       "      <td>Iowa</td>\n",
       "    </tr>\n",
       "    <tr>\n",
       "      <th>15</th>\n",
       "      <td>0.313253</td>\n",
       "      <td>0.239726</td>\n",
       "      <td>0.276486</td>\n",
       "      <td>1</td>\n",
       "      <td>low</td>\n",
       "      <td>Kansas</td>\n",
       "    </tr>\n",
       "    <tr>\n",
       "      <th>16</th>\n",
       "      <td>0.536145</td>\n",
       "      <td>0.219178</td>\n",
       "      <td>0.232558</td>\n",
       "      <td>2</td>\n",
       "      <td>medium</td>\n",
       "      <td>Kentucky</td>\n",
       "    </tr>\n",
       "    <tr>\n",
       "      <th>17</th>\n",
       "      <td>0.879518</td>\n",
       "      <td>0.698630</td>\n",
       "      <td>0.385013</td>\n",
       "      <td>0</td>\n",
       "      <td>high</td>\n",
       "      <td>Louisiana</td>\n",
       "    </tr>\n",
       "    <tr>\n",
       "      <th>18</th>\n",
       "      <td>0.078313</td>\n",
       "      <td>0.130137</td>\n",
       "      <td>0.012920</td>\n",
       "      <td>1</td>\n",
       "      <td>low</td>\n",
       "      <td>Maine</td>\n",
       "    </tr>\n",
       "    <tr>\n",
       "      <th>19</th>\n",
       "      <td>0.632530</td>\n",
       "      <td>0.873288</td>\n",
       "      <td>0.529716</td>\n",
       "      <td>0</td>\n",
       "      <td>high</td>\n",
       "      <td>Maryland</td>\n",
       "    </tr>\n",
       "    <tr>\n",
       "      <th>20</th>\n",
       "      <td>0.216867</td>\n",
       "      <td>0.356164</td>\n",
       "      <td>0.232558</td>\n",
       "      <td>1</td>\n",
       "      <td>low</td>\n",
       "      <td>Massachusetts</td>\n",
       "    </tr>\n",
       "    <tr>\n",
       "      <th>21</th>\n",
       "      <td>0.680723</td>\n",
       "      <td>0.719178</td>\n",
       "      <td>0.718346</td>\n",
       "      <td>0</td>\n",
       "      <td>high</td>\n",
       "      <td>Michigan</td>\n",
       "    </tr>\n",
       "    <tr>\n",
       "      <th>22</th>\n",
       "      <td>0.114458</td>\n",
       "      <td>0.092466</td>\n",
       "      <td>0.196382</td>\n",
       "      <td>1</td>\n",
       "      <td>low</td>\n",
       "      <td>Minnesota</td>\n",
       "    </tr>\n",
       "    <tr>\n",
       "      <th>23</th>\n",
       "      <td>0.921687</td>\n",
       "      <td>0.732877</td>\n",
       "      <td>0.253230</td>\n",
       "      <td>0</td>\n",
       "      <td>high</td>\n",
       "      <td>Mississippi</td>\n",
       "    </tr>\n",
       "    <tr>\n",
       "      <th>24</th>\n",
       "      <td>0.493976</td>\n",
       "      <td>0.455479</td>\n",
       "      <td>0.540052</td>\n",
       "      <td>0</td>\n",
       "      <td>high</td>\n",
       "      <td>Missouri</td>\n",
       "    </tr>\n",
       "    <tr>\n",
       "      <th>25</th>\n",
       "      <td>0.313253</td>\n",
       "      <td>0.219178</td>\n",
       "      <td>0.235142</td>\n",
       "      <td>1</td>\n",
       "      <td>low</td>\n",
       "      <td>Montana</td>\n",
       "    </tr>\n",
       "    <tr>\n",
       "      <th>26</th>\n",
       "      <td>0.210843</td>\n",
       "      <td>0.195205</td>\n",
       "      <td>0.237726</td>\n",
       "      <td>1</td>\n",
       "      <td>low</td>\n",
       "      <td>Nebraska</td>\n",
       "    </tr>\n",
       "    <tr>\n",
       "      <th>27</th>\n",
       "      <td>0.686747</td>\n",
       "      <td>0.708904</td>\n",
       "      <td>1.000000</td>\n",
       "      <td>0</td>\n",
       "      <td>high</td>\n",
       "      <td>Nevada</td>\n",
       "    </tr>\n",
       "    <tr>\n",
       "      <th>28</th>\n",
       "      <td>0.078313</td>\n",
       "      <td>0.041096</td>\n",
       "      <td>0.056848</td>\n",
       "      <td>1</td>\n",
       "      <td>low</td>\n",
       "      <td>New Hampshire</td>\n",
       "    </tr>\n",
       "    <tr>\n",
       "      <th>29</th>\n",
       "      <td>0.397590</td>\n",
       "      <td>0.390411</td>\n",
       "      <td>0.297158</td>\n",
       "      <td>2</td>\n",
       "      <td>medium</td>\n",
       "      <td>New Jersey</td>\n",
       "    </tr>\n",
       "    <tr>\n",
       "      <th>30</th>\n",
       "      <td>0.638554</td>\n",
       "      <td>0.821918</td>\n",
       "      <td>0.640827</td>\n",
       "      <td>0</td>\n",
       "      <td>high</td>\n",
       "      <td>New Mexico</td>\n",
       "    </tr>\n",
       "    <tr>\n",
       "      <th>31</th>\n",
       "      <td>0.620482</td>\n",
       "      <td>0.715753</td>\n",
       "      <td>0.485788</td>\n",
       "      <td>0</td>\n",
       "      <td>high</td>\n",
       "      <td>New York</td>\n",
       "    </tr>\n",
       "    <tr>\n",
       "      <th>32</th>\n",
       "      <td>0.734940</td>\n",
       "      <td>1.000000</td>\n",
       "      <td>0.227390</td>\n",
       "      <td>0</td>\n",
       "      <td>high</td>\n",
       "      <td>North Carolina</td>\n",
       "    </tr>\n",
       "    <tr>\n",
       "      <th>33</th>\n",
       "      <td>0.000000</td>\n",
       "      <td>0.000000</td>\n",
       "      <td>0.000000</td>\n",
       "      <td>1</td>\n",
       "      <td>low</td>\n",
       "      <td>North Dakota</td>\n",
       "    </tr>\n",
       "    <tr>\n",
       "      <th>34</th>\n",
       "      <td>0.391566</td>\n",
       "      <td>0.256849</td>\n",
       "      <td>0.364341</td>\n",
       "      <td>2</td>\n",
       "      <td>medium</td>\n",
       "      <td>Ohio</td>\n",
       "    </tr>\n",
       "    <tr>\n",
       "      <th>35</th>\n",
       "      <td>0.349398</td>\n",
       "      <td>0.363014</td>\n",
       "      <td>0.328165</td>\n",
       "      <td>2</td>\n",
       "      <td>medium</td>\n",
       "      <td>Oklahoma</td>\n",
       "    </tr>\n",
       "    <tr>\n",
       "      <th>36</th>\n",
       "      <td>0.246988</td>\n",
       "      <td>0.390411</td>\n",
       "      <td>0.568475</td>\n",
       "      <td>2</td>\n",
       "      <td>medium</td>\n",
       "      <td>Oregon</td>\n",
       "    </tr>\n",
       "    <tr>\n",
       "      <th>37</th>\n",
       "      <td>0.331325</td>\n",
       "      <td>0.208904</td>\n",
       "      <td>0.196382</td>\n",
       "      <td>1</td>\n",
       "      <td>low</td>\n",
       "      <td>Pennsylvania</td>\n",
       "    </tr>\n",
       "    <tr>\n",
       "      <th>38</th>\n",
       "      <td>0.156627</td>\n",
       "      <td>0.441781</td>\n",
       "      <td>0.025840</td>\n",
       "      <td>2</td>\n",
       "      <td>medium</td>\n",
       "      <td>Rhode Island</td>\n",
       "    </tr>\n",
       "    <tr>\n",
       "      <th>39</th>\n",
       "      <td>0.819277</td>\n",
       "      <td>0.801370</td>\n",
       "      <td>0.392765</td>\n",
       "      <td>0</td>\n",
       "      <td>high</td>\n",
       "      <td>South Carolina</td>\n",
       "    </tr>\n",
       "    <tr>\n",
       "      <th>40</th>\n",
       "      <td>0.180723</td>\n",
       "      <td>0.140411</td>\n",
       "      <td>0.142119</td>\n",
       "      <td>1</td>\n",
       "      <td>low</td>\n",
       "      <td>South Dakota</td>\n",
       "    </tr>\n",
       "    <tr>\n",
       "      <th>41</th>\n",
       "      <td>0.746988</td>\n",
       "      <td>0.489726</td>\n",
       "      <td>0.506460</td>\n",
       "      <td>0</td>\n",
       "      <td>high</td>\n",
       "      <td>Tennessee</td>\n",
       "    </tr>\n",
       "    <tr>\n",
       "      <th>42</th>\n",
       "      <td>0.716867</td>\n",
       "      <td>0.534247</td>\n",
       "      <td>0.470284</td>\n",
       "      <td>0</td>\n",
       "      <td>high</td>\n",
       "      <td>Texas</td>\n",
       "    </tr>\n",
       "    <tr>\n",
       "      <th>43</th>\n",
       "      <td>0.144578</td>\n",
       "      <td>0.256849</td>\n",
       "      <td>0.403101</td>\n",
       "      <td>2</td>\n",
       "      <td>medium</td>\n",
       "      <td>Utah</td>\n",
       "    </tr>\n",
       "    <tr>\n",
       "      <th>44</th>\n",
       "      <td>0.084337</td>\n",
       "      <td>0.010274</td>\n",
       "      <td>0.100775</td>\n",
       "      <td>1</td>\n",
       "      <td>low</td>\n",
       "      <td>Vermont</td>\n",
       "    </tr>\n",
       "    <tr>\n",
       "      <th>45</th>\n",
       "      <td>0.463855</td>\n",
       "      <td>0.380137</td>\n",
       "      <td>0.346253</td>\n",
       "      <td>2</td>\n",
       "      <td>medium</td>\n",
       "      <td>Virginia</td>\n",
       "    </tr>\n",
       "    <tr>\n",
       "      <th>46</th>\n",
       "      <td>0.192771</td>\n",
       "      <td>0.342466</td>\n",
       "      <td>0.488372</td>\n",
       "      <td>2</td>\n",
       "      <td>medium</td>\n",
       "      <td>Washington</td>\n",
       "    </tr>\n",
       "    <tr>\n",
       "      <th>47</th>\n",
       "      <td>0.295181</td>\n",
       "      <td>0.123288</td>\n",
       "      <td>0.051680</td>\n",
       "      <td>1</td>\n",
       "      <td>low</td>\n",
       "      <td>West Virginia</td>\n",
       "    </tr>\n",
       "    <tr>\n",
       "      <th>48</th>\n",
       "      <td>0.108434</td>\n",
       "      <td>0.027397</td>\n",
       "      <td>0.090439</td>\n",
       "      <td>1</td>\n",
       "      <td>low</td>\n",
       "      <td>Wisconsin</td>\n",
       "    </tr>\n",
       "    <tr>\n",
       "      <th>49</th>\n",
       "      <td>0.361446</td>\n",
       "      <td>0.397260</td>\n",
       "      <td>0.214470</td>\n",
       "      <td>2</td>\n",
       "      <td>medium</td>\n",
       "      <td>Wyoming</td>\n",
       "    </tr>\n",
       "  </tbody>\n",
       "</table>\n",
       "</div>"
      ],
      "text/plain": [
       "      Murder   Assault      Rape  cluster crime_level          States\n",
       "0   0.746988  0.654110  0.359173        0        high         Alabama\n",
       "1   0.554217  0.746575  0.961240        0        high          Alaska\n",
       "2   0.439759  0.852740  0.612403        0        high         Arizona\n",
       "3   0.481928  0.496575  0.315245        2      medium        Arkansas\n",
       "4   0.493976  0.791096  0.860465        0        high      California\n",
       "5   0.427711  0.544521  0.811370        0        high        Colorado\n",
       "6   0.150602  0.222603  0.098191        1         low     Connecticut\n",
       "7   0.307229  0.660959  0.219638        2      medium        Delaware\n",
       "8   0.879518  0.993151  0.635659        0        high         Florida\n",
       "9   1.000000  0.568493  0.478036        0        high         Georgia\n",
       "10  0.271084  0.003425  0.333333        1         low          Hawaii\n",
       "11  0.108434  0.256849  0.178295        1         low           Idaho\n",
       "12  0.578313  0.698630  0.431525        0        high        Illinois\n",
       "13  0.385542  0.232877  0.354005        2      medium         Indiana\n",
       "14  0.084337  0.037671  0.103359        1         low            Iowa\n",
       "15  0.313253  0.239726  0.276486        1         low          Kansas\n",
       "16  0.536145  0.219178  0.232558        2      medium        Kentucky\n",
       "17  0.879518  0.698630  0.385013        0        high       Louisiana\n",
       "18  0.078313  0.130137  0.012920        1         low           Maine\n",
       "19  0.632530  0.873288  0.529716        0        high        Maryland\n",
       "20  0.216867  0.356164  0.232558        1         low   Massachusetts\n",
       "21  0.680723  0.719178  0.718346        0        high        Michigan\n",
       "22  0.114458  0.092466  0.196382        1         low       Minnesota\n",
       "23  0.921687  0.732877  0.253230        0        high     Mississippi\n",
       "24  0.493976  0.455479  0.540052        0        high        Missouri\n",
       "25  0.313253  0.219178  0.235142        1         low         Montana\n",
       "26  0.210843  0.195205  0.237726        1         low        Nebraska\n",
       "27  0.686747  0.708904  1.000000        0        high          Nevada\n",
       "28  0.078313  0.041096  0.056848        1         low   New Hampshire\n",
       "29  0.397590  0.390411  0.297158        2      medium      New Jersey\n",
       "30  0.638554  0.821918  0.640827        0        high      New Mexico\n",
       "31  0.620482  0.715753  0.485788        0        high        New York\n",
       "32  0.734940  1.000000  0.227390        0        high  North Carolina\n",
       "33  0.000000  0.000000  0.000000        1         low    North Dakota\n",
       "34  0.391566  0.256849  0.364341        2      medium            Ohio\n",
       "35  0.349398  0.363014  0.328165        2      medium        Oklahoma\n",
       "36  0.246988  0.390411  0.568475        2      medium          Oregon\n",
       "37  0.331325  0.208904  0.196382        1         low    Pennsylvania\n",
       "38  0.156627  0.441781  0.025840        2      medium    Rhode Island\n",
       "39  0.819277  0.801370  0.392765        0        high  South Carolina\n",
       "40  0.180723  0.140411  0.142119        1         low    South Dakota\n",
       "41  0.746988  0.489726  0.506460        0        high       Tennessee\n",
       "42  0.716867  0.534247  0.470284        0        high           Texas\n",
       "43  0.144578  0.256849  0.403101        2      medium            Utah\n",
       "44  0.084337  0.010274  0.100775        1         low         Vermont\n",
       "45  0.463855  0.380137  0.346253        2      medium        Virginia\n",
       "46  0.192771  0.342466  0.488372        2      medium      Washington\n",
       "47  0.295181  0.123288  0.051680        1         low   West Virginia\n",
       "48  0.108434  0.027397  0.090439        1         low       Wisconsin\n",
       "49  0.361446  0.397260  0.214470        2      medium         Wyoming"
      ]
     },
     "execution_count": 49,
     "metadata": {},
     "output_type": "execute_result"
    }
   ],
   "source": [
    "X2[\"States\"] = df.index\n",
    "X2"
   ]
  },
  {
   "cell_type": "code",
   "execution_count": 50,
   "metadata": {
    "ExecuteTime": {
     "end_time": "2022-09-07T19:44:16.667340Z",
     "start_time": "2022-09-07T19:44:16.620777Z"
    }
   },
   "outputs": [
    {
     "data": {
      "text/plain": [
       "6       Connecticut\n",
       "10           Hawaii\n",
       "11            Idaho\n",
       "14             Iowa\n",
       "15           Kansas\n",
       "18            Maine\n",
       "20    Massachusetts\n",
       "22        Minnesota\n",
       "25          Montana\n",
       "26         Nebraska\n",
       "28    New Hampshire\n",
       "33     North Dakota\n",
       "37     Pennsylvania\n",
       "40     South Dakota\n",
       "44          Vermont\n",
       "47    West Virginia\n",
       "48        Wisconsin\n",
       "Name: States, dtype: object"
      ]
     },
     "execution_count": 50,
     "metadata": {},
     "output_type": "execute_result"
    }
   ],
   "source": [
    "X2[X2.crime_level == \"low\"][\"States\"]"
   ]
  },
  {
   "cell_type": "code",
   "execution_count": 51,
   "metadata": {
    "ExecuteTime": {
     "end_time": "2022-09-07T19:44:20.194763Z",
     "start_time": "2022-09-07T19:44:20.166162Z"
    }
   },
   "outputs": [
    {
     "data": {
      "text/plain": [
       "0            Alabama\n",
       "1             Alaska\n",
       "2            Arizona\n",
       "4         California\n",
       "5           Colorado\n",
       "8            Florida\n",
       "9            Georgia\n",
       "12          Illinois\n",
       "17         Louisiana\n",
       "19          Maryland\n",
       "21          Michigan\n",
       "23       Mississippi\n",
       "24          Missouri\n",
       "27            Nevada\n",
       "30        New Mexico\n",
       "31          New York\n",
       "32    North Carolina\n",
       "39    South Carolina\n",
       "41         Tennessee\n",
       "42             Texas\n",
       "Name: States, dtype: object"
      ]
     },
     "execution_count": 51,
     "metadata": {},
     "output_type": "execute_result"
    }
   ],
   "source": [
    "X2[X2.crime_level == \"high\"][\"States\"]"
   ]
  },
  {
   "cell_type": "code",
   "execution_count": 52,
   "metadata": {
    "ExecuteTime": {
     "end_time": "2022-09-07T19:44:27.127709Z",
     "start_time": "2022-09-07T19:44:27.103211Z"
    }
   },
   "outputs": [
    {
     "data": {
      "text/plain": [
       "3         Arkansas\n",
       "7         Delaware\n",
       "13         Indiana\n",
       "16        Kentucky\n",
       "29      New Jersey\n",
       "34            Ohio\n",
       "35        Oklahoma\n",
       "36          Oregon\n",
       "38    Rhode Island\n",
       "43            Utah\n",
       "45        Virginia\n",
       "46      Washington\n",
       "49         Wyoming\n",
       "Name: States, dtype: object"
      ]
     },
     "execution_count": 52,
     "metadata": {},
     "output_type": "execute_result"
    }
   ],
   "source": [
    "X2[X2.crime_level == \"medium\"][\"States\"]"
   ]
  },
  {
   "cell_type": "code",
   "execution_count": null,
   "metadata": {},
   "outputs": [],
   "source": []
  }
 ],
 "metadata": {
  "kernelspec": {
   "display_name": "Python 3 (ipykernel)",
   "language": "python",
   "name": "python3"
  },
  "language_info": {
   "codemirror_mode": {
    "name": "ipython",
    "version": 3
   },
   "file_extension": ".py",
   "mimetype": "text/x-python",
   "name": "python",
   "nbconvert_exporter": "python",
   "pygments_lexer": "ipython3",
   "version": "3.9.7"
  },
  "toc": {
   "base_numbering": 1,
   "nav_menu": {},
   "number_sections": true,
   "sideBar": true,
   "skip_h1_title": false,
   "title_cell": "Table of Contents",
   "title_sidebar": "Contents",
   "toc_cell": false,
   "toc_position": {},
   "toc_section_display": true,
   "toc_window_display": false
  },
  "varInspector": {
   "cols": {
    "lenName": 16,
    "lenType": 16,
    "lenVar": 40
   },
   "kernels_config": {
    "python": {
     "delete_cmd_postfix": "",
     "delete_cmd_prefix": "del ",
     "library": "var_list.py",
     "varRefreshCmd": "print(var_dic_list())"
    },
    "r": {
     "delete_cmd_postfix": ") ",
     "delete_cmd_prefix": "rm(",
     "library": "var_list.r",
     "varRefreshCmd": "cat(var_dic_list()) "
    }
   },
   "types_to_exclude": [
    "module",
    "function",
    "builtin_function_or_method",
    "instance",
    "_Feature"
   ],
   "window_display": false
  }
 },
 "nbformat": 4,
 "nbformat_minor": 4
}
